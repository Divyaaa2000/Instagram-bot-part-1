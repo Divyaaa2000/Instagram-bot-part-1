{
 "cells": [
  {
   "cell_type": "markdown",
   "id": "e8a94537",
   "metadata": {},
   "source": [
    "# InstaBot Introduction - Part 1\n",
    "Your friend has opened a new Food Blogging handle on Instagram and wants to get famous. He wants to follow a lot of people so that he can get noticed quickly but it is a tedious task so he asks you to help him. As you have just learned automation using Selenium, you decided to help him by creating an Instagram Bot.\n",
    "\n",
    "You need to create different functions for each task.\n",
    "##### Note :\n",
    "Don’t forget to remove your Username and Password from the python notebook before submission.\n",
    "\n",
    "Replace your username and password by ‘SAMPLE USERNAME’ and ‘SAMPLE PASSWORD’ where you have used them in your code for logging in to instagram\n",
    "\n",
    "Upload your code file for submission of this project"
   ]
  },
  {
   "cell_type": "code",
   "execution_count": 122,
   "id": "50f19031",
   "metadata": {},
   "outputs": [],
   "source": [
    "from selenium import webdriver\n",
    "from selenium.webdriver.support import expected_conditions as EC\n",
    "from selenium.webdriver.support.ui import WebDriverWait\n",
    "from selenium.webdriver.common.by import By\n",
    "from selenium.common.exceptions import TimeoutException\n",
    "from bs4 import BeautifulSoup\n",
    "import time"
   ]
  },
  {
   "cell_type": "code",
   "execution_count": 123,
   "id": "f89dd496",
   "metadata": {},
   "outputs": [
    {
     "name": "stderr",
     "output_type": "stream",
     "text": [
      "<ipython-input-123-83f597078576>:1: DeprecationWarning: executable_path has been deprecated, please pass in a Service object\n",
      "  driver=webdriver.Chrome(executable_path=\"C:\\python37\\chromedriver.exe\")\n"
     ]
    }
   ],
   "source": [
    "driver=webdriver.Chrome(executable_path=\"C:\\python37\\chromedriver.exe\")\n",
    "driver.maximize_window()"
   ]
  },
  {
   "cell_type": "code",
   "execution_count": 124,
   "id": "cad34d2d",
   "metadata": {},
   "outputs": [],
   "source": [
    "driver.get('https://www.instagram.com/')"
   ]
  },
  {
   "cell_type": "code",
   "execution_count": 125,
   "id": "015c04cb",
   "metadata": {},
   "outputs": [],
   "source": [
    "username=\"SAMPLE USERNAME\"\n",
    "password=\"SAMPLE PASSWORD\""
   ]
  },
  {
   "cell_type": "code",
   "execution_count": 126,
   "id": "291441a6",
   "metadata": {},
   "outputs": [],
   "source": [
    "wait=WebDriverWait(driver,10)"
   ]
  },
  {
   "cell_type": "markdown",
   "id": "bc4b346b",
   "metadata": {},
   "source": [
    "## Problem 1 : Login to your Instagram\n",
    "### 1.1Login to your Instagram Handle\n",
    "### Submit with sample username and password"
   ]
  },
  {
   "cell_type": "code",
   "execution_count": 127,
   "id": "a00e7c0b",
   "metadata": {},
   "outputs": [],
   "source": [
    "def LogIn(username,password):\n",
    "    #enter username and password\n",
    "    user_name=driver.find_element('name','username')\n",
    "    user_name.send_keys(username)\n",
    "    pass_word=driver.find_element('name','password')\n",
    "    pass_word.send_keys(password)\n",
    "    #locate login button\n",
    "    button=wait.until(EC.presence_of_element_located((By.XPATH,'//*[@id=\"loginForm\"]/div[1]/div[3]/button/div')))\n",
    "    button.submit()\n",
    "    #save your login info not now\n",
    "    pop = wait.until(EC.presence_of_element_located((By.XPATH,'//*[@id=\"react-root\"]/section/main/div/div/div/div/button')))\n",
    "    pop.click()\n",
    "    "
   ]
  },
  {
   "cell_type": "code",
   "execution_count": 128,
   "id": "8c99a3e0",
   "metadata": {},
   "outputs": [],
   "source": [
    "LogIn(username,password)"
   ]
  },
  {
   "cell_type": "markdown",
   "id": "30d66044",
   "metadata": {},
   "source": [
    "## 2) Type for “food” in search bar and print all the names of the Instagram Handles that are displayed in list after typing “food”\n",
    "\n",
    "### 2.1) Note : Make sure to avoid printing hashtags"
   ]
  },
  {
   "cell_type": "code",
   "execution_count": 11,
   "id": "ecbac0a5",
   "metadata": {},
   "outputs": [
    {
     "name": "stdout",
     "output_type": "stream",
     "text": [
      "delhifoodguide\n",
      "foodie_incarnate\n",
      "yourfoodlab\n",
      "swadhasneha\n",
      "foodzeee\n",
      "satshyaa\n",
      "food\n",
      "delhifoodwalks\n",
      "foodie__nashaaa\n",
      "foodiewe\n",
      "food_lunatic\n",
      "foodtalkindia\n",
      "food.huggers\n",
      "ohmyfoodiefood\n",
      "foodinsider\n",
      "explore\n",
      "mumbaifoodie\n",
      "foodandwine\n",
      "foodie_aditya\n",
      "foodrush.recipe\n",
      "food_stories_siliguri\n",
      "foodbusofindia\n",
      "explore\n",
      "foodies_of_bhubaneswar\n",
      "foodgod\n",
      "_taken.by.food\n",
      "foodsandflavorsbyshilpi\n",
      "meghnasfoodmagic\n",
      "thisisdelhi\n",
      "streetfoodrecipe\n",
      "foodiefordelhi\n",
      "kuljyoti.dhingra\n",
      "bhukkad_abhishekrai\n",
      "explore\n",
      "_.foodislovee._\n",
      "thinktravelfood\n",
      "food_architect_\n",
      "letstry_foods\n",
      "this_is_delhi\n",
      "food.bloggirl\n",
      "wandererinvogue\n",
      "lost.and.hungry\n",
      "nepal.food\n",
      "wanderwithfoodspotter\n",
      "khaata_rahe_mera_dil\n",
      "explore\n",
      "justtt_food\n",
      "explore\n",
      "chef_anjali\n",
      "food.darzee\n",
      "delhifoodking\n",
      "foodsperiment.bonchou\n",
      "one_moody_foodie\n",
      "foodchrome\n",
      "namhyafoods\n",
      "wakaofoods\n"
     ]
    }
   ],
   "source": [
    "search_input =    driver.find_element(\"xpath\",\"//input[@placeholder='Search']\")\n",
    "search_input.clear()\n",
    "search_input.send_keys(\"food\")\n",
    "handels = WebDriverWait(driver, 10).until(EC.presence_of_all_elements_located((By.XPATH, \"//div[@class='_aa61']//a\")))\n",
    "\n",
    "\n",
    "# Store user_handles\n",
    "store_user_ids = []\n",
    "for i in handels:\n",
    "    html_content = i.get_attribute('outerHTML')\n",
    "    data = BeautifulSoup(html_content,'html.parser').a['href'].split('/')[1]\n",
    "    if data!='#':\n",
    "        store_user_ids.append(data)\n",
    "\n",
    "# Print handles\n",
    "for handle in store_user_ids:\n",
    "    print(handle)\n"
   ]
  },
  {
   "cell_type": "markdown",
   "id": "4efc0a74",
   "metadata": {},
   "source": [
    "## 3) Searching and Opening a profile using \n",
    "\n",
    "### 3.1) Open profile of “So Delhi” "
   ]
  },
  {
   "cell_type": "code",
   "execution_count": 26,
   "id": "8547de07",
   "metadata": {},
   "outputs": [],
   "source": [
    "search_box=driver.find_element('xpath','//input[@Placeholder=\"Search\"]')\n",
    "search_box.clear()\n",
    "search_box.send_keys('So Delhi')\n",
    "open_prof=WebDriverWait(driver,10).until(EC.presence_of_element_located((By.XPATH,'//div[@class=\"_aa61\"]//a')))\n",
    "open_prof.click()"
   ]
  },
  {
   "cell_type": "markdown",
   "id": "eb378ab2",
   "metadata": {},
   "source": [
    "## 4) Follow/Unfollow given handle - \n",
    "\n",
    "### 4.1) Open the Instagram Handle of “So Delhi”\n",
    "\n",
    "### 4.2) Start following it. Print a message if you are already following\n",
    "\n",
    "### 4.3) After following, unfollow the instagram handle. Print a message if you have already unfollowed."
   ]
  },
  {
   "cell_type": "code",
   "execution_count": 124,
   "id": "a465b741",
   "metadata": {},
   "outputs": [
    {
     "name": "stdout",
     "output_type": "stream",
     "text": [
      "Now Following\n"
     ]
    }
   ],
   "source": [
    "#Follow\n",
    "search_box=driver.find_element('xpath','//input[@Placeholder=\"Search\"]')\n",
    "search_box.clear()\n",
    "search_box.send_keys(\"So Delhi\")\n",
    "open_prof=WebDriverWait(driver,10).until(EC.presence_of_element_located((By.XPATH,'//div[@class=\"_aa61\"]//a')))\n",
    "open_prof.click()\n",
    "\n",
    "follow_button=WebDriverWait(driver,10).until(EC.presence_of_element_located((By.XPATH,'//div[@class=\"_ab8w  _ab94 _ab99 _ab9f _ab9m _ab9p  _abb0 _abcm\"]/button')))\n",
    "\n",
    "type_button=BeautifulSoup(follow_button.get_attribute(\"outerHTML\"),'html.parser')\n",
    "\n",
    "if type_button.text!=\"Follow\":\n",
    "    print(\"Already Following\")\n",
    "else:\n",
    "    follow_button.click()\n",
    "    print(\"Now Following\")"
   ]
  },
  {
   "cell_type": "code",
   "execution_count": 125,
   "id": "9d5935ef",
   "metadata": {},
   "outputs": [],
   "source": [
    "#unfollow\n",
    "btn=WebDriverWait(driver,10).until(EC.presence_of_element_located((By.XPATH,'//div[@class=\"_ab8w  _ab94 _ab99 _ab9f _ab9m _ab9p  _abb0 _abcm\"]/button')))\n",
    "\n",
    "if btn.text!=\"Follow\":\n",
    "    btn.click()\n",
    "    time.sleep(2)\n",
    "    \n",
    "    pop_up = wait.until(EC.presence_of_element_located((By.XPATH,'//div[@class=\"_a9-z\"]/button')))\n",
    "    pop_up.click()\n",
    "    time.sleep(3)\n",
    "    print(\"Now unfollowed\")\n",
    "else:\n",
    "    print(\"Already Unfollowed\")\n"
   ]
  },
  {
   "cell_type": "markdown",
   "id": "6d37ebff",
   "metadata": {},
   "source": [
    "## 5) Like/Unlike posts\n",
    "\n",
    "### 5.1) Liking the top 30 posts of the ‘dilsefoodie'. Print message if you have already liked it.\n",
    "\n",
    "### 5.2) Unliking the top 30 posts of the ‘dilsefoodie’. Print message if you have already unliked it."
   ]
  },
  {
   "cell_type": "code",
   "execution_count": 81,
   "id": "e9c0c2c7",
   "metadata": {},
   "outputs": [],
   "source": [
    "#Like\n",
    "def like():\n",
    "    try:\n",
    "        #searching the profile of dilsefoddie\n",
    "        search_box=driver.find_element('xpath','//input[@Placeholder=\"Search\"]')\n",
    "        search_box.clear()\n",
    "        search_box.send_keys(\"dilsefoddie\")\n",
    "        open_prof=WebDriverWait(driver,10).until(EC.presence_of_element_located((By.XPATH,'//div[@class=\"_aa61\"]//a')))\n",
    "        open_prof.click()\n",
    "        \n",
    "        #scrolling to locate the posts\n",
    "        driver.execute_script('window.scrollBy(0,6000);')\n",
    "        time.sleep(3)\n",
    "        post=WebDriverWait(driver,10).until(EC.presence_of_all_elements_located((By.XPATH,'//div[@class=\"_aagw\"]')))\n",
    "        \n",
    "        for i in range(len(post)):\n",
    "            post[i].click()\n",
    "            \n",
    "            like_button=WebDriverWait(driver,10).until(EC.presence_of_element_located((By.XPATH,'//div[@class=\"_aaz4\"]/section/span/button[@class=\"_abl-\"]')))\n",
    "            st=BeautifulSoup(like_button.get_attribute('innerHTML'),'html.parser').svg[\"aria-label\"]\n",
    "    \n",
    "            if st==\"Like\":\n",
    "                    like_button.click()\n",
    "                    time.sleep(2)\n",
    "            else:\n",
    "                print(\"you have already liked post\",i+1)\n",
    "                time.sleep(2)\n",
    "            #finding the cross button\n",
    "            exit=WebDriverWait(driver,10).until(EC.presence_of_element_located((By.XPATH,'//div[@class=\"o9tjht9c jar9mtx6 mbzxb4f5 njoytozt\"]/div')))\n",
    "            exit.click()\n",
    "            time.sleep(2)\n",
    "    except TimeoutException:\n",
    "        print(\"Something went wrong!\")"
   ]
  },
  {
   "cell_type": "code",
   "execution_count": 82,
   "id": "a9019546",
   "metadata": {},
   "outputs": [
    {
     "name": "stdout",
     "output_type": "stream",
     "text": [
      "you have already liked post 1\n",
      "you have already liked post 2\n",
      "you have already liked post 3\n",
      "you have already liked post 4\n",
      "you have already liked post 5\n",
      "you have already liked post 6\n",
      "you have already liked post 7\n",
      "you have already liked post 8\n",
      "you have already liked post 9\n",
      "you have already liked post 10\n",
      "you have already liked post 11\n",
      "you have already liked post 12\n",
      "you have already liked post 16\n",
      "you have already liked post 20\n",
      "you have already liked post 21\n",
      "you have already liked post 22\n",
      "you have already liked post 23\n",
      "you have already liked post 24\n"
     ]
    }
   ],
   "source": [
    "like()"
   ]
  },
  {
   "cell_type": "code",
   "execution_count": 111,
   "id": "1676f8f3",
   "metadata": {},
   "outputs": [],
   "source": [
    "#unlike\n",
    "def Unlike():\n",
    "    try:\n",
    "        #finding the profile of dilsefoddie\n",
    "        search_box=driver.find_element('xpath','//input[@Placeholder=\"Search\"]')\n",
    "        search_box.clear()\n",
    "        search_box.send_keys(\"dilsefoddie\")\n",
    "        open_prof=WebDriverWait(driver,10).until(EC.presence_of_element_located((By.XPATH,'//div[@class=\"_aa61\"]//a')))\n",
    "        open_prof.click()\n",
    "        \n",
    "        #scrolling to locate posts\n",
    "        driver.execute_script('window.scrollBy(0,6000);')\n",
    "        time.sleep(3)\n",
    "        post=WebDriverWait(driver,10).until(EC.presence_of_all_elements_located((By.XPATH,'//div[@class=\"_aagw\"]')))\n",
    "        \n",
    "        for i in range(len(post)):\n",
    "            post[i].click()\n",
    "            \n",
    "            unlike_button=WebDriverWait(driver,10).until(EC.presence_of_element_located((By.XPATH,'//div[@class=\"_aaz4\"]/section/span/button[@class=\"_abl-\"]')))\n",
    "            st=BeautifulSoup(unlike_button.get_attribute('innerHTML'),'html.parser').svg[\"aria-label\"]\n",
    "            \n",
    "            if st==\"Unlike\":\n",
    "                unlike_button.click()\n",
    "                time.sleep(2)\n",
    "            else:\n",
    "                print('You have already unliked post no',i+1)\n",
    "                time.sleep(2)\n",
    "            #finding the cross button\n",
    "            exit=WebDriverWait(driver,10).until(EC.presence_of_element_located((By.XPATH,'//div[@class=\"o9tjht9c jar9mtx6 mbzxb4f5 njoytozt\"]/div')))\n",
    "            exit.click()\n",
    "            time.sleep(2)\n",
    "    except TimeoutException:\n",
    "        print(\"Something went wrong!\")"
   ]
  },
  {
   "cell_type": "code",
   "execution_count": 112,
   "id": "f050302f",
   "metadata": {},
   "outputs": [
    {
     "name": "stdout",
     "output_type": "stream",
     "text": [
      "You have already unliked post no 1\n",
      "You have already unliked post no 2\n",
      "You have already unliked post no 3\n",
      "You have already unliked post no 4\n",
      "You have already unliked post no 5\n",
      "You have already unliked post no 6\n",
      "You have already unliked post no 7\n",
      "You have already unliked post no 8\n",
      "You have already unliked post no 9\n"
     ]
    }
   ],
   "source": [
    "Unlike()"
   ]
  },
  {
   "cell_type": "markdown",
   "id": "cc5b1b0e",
   "metadata": {},
   "source": [
    "## 6) Extract list of followers\n",
    "\n",
    "### 6.1) Extract the usernames of the first 500 followers of ‘foodtalkindia’ and ‘sodelhi’.\n"
   ]
  },
  {
   "cell_type": "code",
   "execution_count": 64,
   "id": "80feef05",
   "metadata": {},
   "outputs": [
    {
     "name": "stdout",
     "output_type": "stream",
     "text": [
      "food_indusrty\n",
      "pambhar_consultancy\n",
      "_vinisha_chotlani\n",
      "_simaur_\n",
      "alikithreddylikith\n",
      "vaibhavbamania\n",
      "dark__apartss\n",
      "evieshamira7\n",
      "nikhil.gupta.11\n",
      "nikhilmahtri2003\n",
      "mansi.4485\n",
      "anchinia_\n"
     ]
    }
   ],
   "source": [
    "\n",
    "def Extract_Followers():\n",
    "    \n",
    "    search_box=driver.find_element('xpath','//input[@Placeholder=\"Search\"]')\n",
    "    search_box.clear()\n",
    "    search_box.send_keys(\"foodtalkindia\")\n",
    "    open_prof=WebDriverWait(driver,10).until(EC.presence_of_element_located((By.XPATH,'//div[@class=\"_aa61\"]//a')))\n",
    "    open_prof.click()\n",
    "    time.sleep(2)\n",
    "\n",
    "    followers_btn=WebDriverWait(driver,10).until(EC.presence_of_all_elements_located((By.XPATH,'//div[@class=\"_aacl _aacp _aacu _aacx _aad6 _aade\"]')))\n",
    "    followers_btn[1].click()\n",
    "\n",
    "    frame=WebDriverWait(driver,10).until(EC.presence_of_element_located((By.XPATH,'//div[@class=\"_ab8w  _ab94 _ab99 _ab9f _ab9m _ab9o _abcm\"]')))\n",
    "\n",
    "    #scrolling unitl 500 located\n",
    "\n",
    "    for i in range(50):\n",
    "        time.sleep(1)\n",
    "    driver.execute_script(\"arguments[0].scrollTop=arguments[0].scrollHeight\",frame)\n",
    "\n",
    "names=[]\n",
    "followers=WebDriverWait(driver,10).until(EC.presence_of_all_elements_located((By.XPATH,'//span[@class=\"_aacl _aaco _aacw _aacx _aad7 _aade\"]')))\n",
    "\n",
    "for i in followers[:500]:\n",
    "    names.append(i.text.split('\\n')[0])\n",
    "\n",
    "for i in names:\n",
    "    print(i)"
   ]
  },
  {
   "cell_type": "code",
   "execution_count": 119,
   "id": "368ee52a",
   "metadata": {},
   "outputs": [],
   "source": [
    "def search_profile(s):\n",
    "    search_box=driver.find_element('xpath','//input[@Placeholder=\"Search\"]')\n",
    "    driver.find_element('xpath','//input[@Placeholder=\"Search\"]').clear()\n",
    "    search_box.send_keys(s)\n",
    "    open_prof=WebDriverWait(driver,10).until(EC.presence_of_element_located((By.XPATH,'//div[@class=\"_aa61\"]//a')))\n",
    "    open_prof.click()\n",
    "    time.sleep(2)"
   ]
  },
  {
   "cell_type": "code",
   "execution_count": 89,
   "id": "93c2cd79",
   "metadata": {},
   "outputs": [],
   "source": [
    "def Extract_followers():\n",
    "    try:\n",
    "        followers_btn=WebDriverWait(driver,10).until(EC.presence_of_all_elements_located((By.XPATH,'//div[@class=\"_aacl _aacp _aacu _aacx _aad6 _aade\"]')))\n",
    "        followers_btn[1].click()\n",
    "\n",
    "        frame=WebDriverWait(driver,10).until(EC.presence_of_element_located((By.XPATH,'//div[@class=\"_ab8w  _ab94 _ab99 _ab9f _ab9m _ab9o _abcm\"]')))\n",
    "\n",
    "        #scrolling until 500 located\n",
    "\n",
    "        for i in range(50):\n",
    "            time.sleep(1)\n",
    "            driver.execute_script(\"arguments[0].scrollTop=arguments[0].scrollHeight\",frame)\n",
    "\n",
    "        names=[]\n",
    "        followers=WebDriverWait(driver,10).until(EC.presence_of_all_elements_located((By.XPATH,'//span[@class=\"_aacl _aaco _aacw _aacx _aad7 _aade\"]')))\n",
    "\n",
    "        for i in followers[:500]:\n",
    "            names.append(i.text.split('\\n')[0])\n",
    "        return names\n",
    "    except TimeoutExecption:\n",
    "        print(\"Something went Wrong\")"
   ]
  },
  {
   "cell_type": "code",
   "execution_count": 90,
   "id": "e5875d85",
   "metadata": {},
   "outputs": [],
   "source": [
    "search_profile('foodtalkindia')"
   ]
  },
  {
   "cell_type": "code",
   "execution_count": 73,
   "id": "fc94e688",
   "metadata": {},
   "outputs": [
    {
     "name": "stdout",
     "output_type": "stream",
     "text": [
      "food_indusrty\n",
      "pambhar_consultancy\n",
      "_vinisha_chotlani\n",
      "_simaur_\n",
      "alikithreddylikith\n",
      "vaibhavbamania\n",
      "dark__apartss\n",
      "evieshamira7\n",
      "nikhil.gupta.11\n",
      "nikhilmahtri2003\n",
      "mansi.4485\n",
      "anchinia_\n"
     ]
    }
   ],
   "source": [
    "users=Extract_followers()\n",
    "for i in users:\n",
    "    print(i)"
   ]
  },
  {
   "cell_type": "markdown",
   "id": "bdb1a685",
   "metadata": {},
   "source": [
    "### First 500 followers of ‘sodelhi’\n"
   ]
  },
  {
   "cell_type": "code",
   "execution_count": 75,
   "id": "605e5a43",
   "metadata": {},
   "outputs": [],
   "source": [
    "search_profile('sodelhi')"
   ]
  },
  {
   "cell_type": "code",
   "execution_count": 76,
   "id": "63230759",
   "metadata": {},
   "outputs": [
    {
     "name": "stdout",
     "output_type": "stream",
     "text": [
      "delhi_ayush_playboy\n",
      "whoisrsc\n",
      "stfu_vanii\n",
      "naga_1515\n",
      "iam_kiyansh\n",
      "vinziterms\n",
      "aguywhoclicks\n",
      "explore.n.taste\n",
      "satvikbajpayee\n",
      "preranagarg\n",
      "anjili_s\n",
      "aaryan27_\n"
     ]
    }
   ],
   "source": [
    "users=Extract_followers()\n",
    "for i in users:\n",
    "    print(i)"
   ]
  },
  {
   "cell_type": "markdown",
   "id": "1c651985",
   "metadata": {},
   "source": [
    "### Print all the followers of “foodtalkindia” that you are following but those who don’t follow you."
   ]
  },
  {
   "cell_type": "code",
   "execution_count": 94,
   "id": "81876c2a",
   "metadata": {},
   "outputs": [],
   "source": [
    "def Following():\n",
    "    try:\n",
    "        #locating the following button and clicking on it\n",
    "        \n",
    "        followers_btn=WebDriverWait(driver,10).until(EC.presence_of_all_elements_located((By.XPATH,'//div[@class=\"_aacl _aacp _aacu _aacx _aad6 _aade\"]')))\n",
    "        followers_btn[1].click()\n",
    "\n",
    "        frame=WebDriverWait(driver,10).until(EC.presence_of_element_located((By.XPATH,'//div[@class=\"_ab8w  _ab94 _ab99 _ab9f _ab9m _ab9o _abcm\"]')))\n",
    "        \n",
    "        for i in range(20):\n",
    "            time.sleep(1)\n",
    "            driver.execute_script(\"arguments[0].scrollTop=arguments[0].scrollHeight\",frame)\n",
    "            \n",
    "        names=[]\n",
    "        \n",
    "        #extracting userdata\n",
    "        following=WebDriverWait(driver,10).until(EC.presence_of_all_elements_located((By.XPATH,'//span[@class=\"_aacl _aaco _aacw _aacx _aad7 _aade\"]')))\n",
    "        for i in following:\n",
    "            names.append(i.text.split('\\n')[0])\n",
    "        return names\n",
    "    except  TimeoutException :\n",
    "        print(\"Something Went Wrong!\")\n",
    "                                                 \n",
    "            \n"
   ]
  },
  {
   "cell_type": "code",
   "execution_count": 116,
   "id": "31f7ee32",
   "metadata": {},
   "outputs": [],
   "source": [
    "#for search and open 'foodtalkindia'\n",
    "search_profile('foodtalkindia')\n",
    "#Extarting followers usinf extract+_followers()\n",
    "followers_of_foodin=Extract_followers()\n",
    "#casting into set\n",
    "followers_of_foodin=set(followers_of_foodin)"
   ]
  },
  {
   "cell_type": "code",
   "execution_count": 113,
   "id": "7b9a292d",
   "metadata": {},
   "outputs": [],
   "source": [
    "#i have first loggin in diffrent tab as search was not clearing out\n",
    "#now finding all user followed by me for that I'll use search_open_profile() after that using Following() I will extrat all user\n",
    "#followed by me\n",
    "search_profile(username)\n",
    "followed_by_me = Following()\n",
    "followed_by_me = set(followed_by_me)"
   ]
  },
  {
   "cell_type": "code",
   "execution_count": 115,
   "id": "67db2c9a",
   "metadata": {},
   "outputs": [
    {
     "name": "stdout",
     "output_type": "stream",
     "text": [
      "No such users found\n"
     ]
    }
   ],
   "source": [
    "#taking intersection so s1 contains only that user who followed by me\n",
    "s1=(followers_of_foodin).intersection(followed_by_me)\n",
    "if len(s1) == 0:\n",
    "    print('No such users found')\n",
    "else:\n",
    "    #now extracting my followers\n",
    "    my_follower = Extract_Followers()\n",
    "    my_follower = set(my_follower)\n",
    "    #taking intersection with s1, so s2 contains only users that I am following them but they don’t follow me\n",
    "    s2=s1.intersection(my_follower)\n",
    "    if len(s2) == 0:\n",
    "        print('No such users found')\n",
    "    else:\n",
    "        for user in s2:\n",
    "            print(user)"
   ]
  },
  {
   "cell_type": "markdown",
   "id": "1d1c4886",
   "metadata": {},
   "source": [
    "# Problem 7 : Check the story of ‘coding.ninjas’\n",
    "\n",
    "Check the story of ‘coding.ninjas’. Consider the following Scenarios and print error messages accordingly -\n",
    "\n",
    "1.If You have already seen the story.\n",
    "\n",
    "2.Or The user has no story.\n",
    "\n",
    "3.Or View the story if not yet seen."
   ]
  },
  {
   "cell_type": "code",
   "execution_count": 165,
   "id": "7d1e2f67",
   "metadata": {},
   "outputs": [],
   "source": [
    "def Story_check():\n",
    "    \n",
    "    search_profile('coding.ninjas')\n",
    "    time.sleep(2)\n",
    "    print(\"Checking coding ninjas story\")\n",
    "    time.sleep(2)\n",
    "    try:\n",
    "        story=WebDriverWait(driver,10).until(EC.presence_of_element_located((By.XPATH,'//div[@class=\"_aa_j\"]/div')))\n",
    "        \n",
    "        height=driver.find_element('class name','_aarh').get_attribute('height')\n",
    "        \n",
    "        if int(height)==208:\n",
    "            print('Already seen the story')\n",
    "        else:\n",
    "            print(\"viewing the Story\")\n",
    "            driver.execute_script('arguments[0].click();',story)\n",
    "    except :\n",
    "        print(\"No story is available to view\")"
   ]
  },
  {
   "cell_type": "code",
   "execution_count": 166,
   "id": "6878d5e0",
   "metadata": {},
   "outputs": [
    {
     "name": "stdout",
     "output_type": "stream",
     "text": [
      "Checking coding ninjas story\n",
      "Already seen the story\n"
     ]
    }
   ],
   "source": [
    "Story_check()"
   ]
  }
 ],
 "metadata": {
  "kernelspec": {
   "display_name": "Python 3",
   "language": "python",
   "name": "python3"
  },
  "language_info": {
   "codemirror_mode": {
    "name": "ipython",
    "version": 3
   },
   "file_extension": ".py",
   "mimetype": "text/x-python",
   "name": "python",
   "nbconvert_exporter": "python",
   "pygments_lexer": "ipython3",
   "version": "3.8.8"
  }
 },
 "nbformat": 4,
 "nbformat_minor": 5
}
